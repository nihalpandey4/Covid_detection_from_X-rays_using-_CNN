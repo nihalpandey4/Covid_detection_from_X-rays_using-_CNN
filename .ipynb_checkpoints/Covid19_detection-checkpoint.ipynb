{
 "cells": [
  {
   "cell_type": "code",
   "execution_count": null,
   "metadata": {
    "colab": {},
    "colab_type": "code",
    "id": "cBI3ECdQ8rsK"
   },
   "outputs": [
    {
     "name": "stderr",
     "output_type": "stream",
     "text": [
      "Using TensorFlow backend.\n"
     ]
    }
   ],
   "source": [
    "#importing necessary libraries\n",
    "from keras.models import Sequential\n",
    "from keras.layers import Dense\n",
    "from keras.layers import Conv2D\n",
    "from keras.layers import MaxPooling2D\n",
    "from keras.layers import Flatten\n",
    "from keras.preprocessing import image\n",
    "import numpy as np"
   ]
  },
  {
   "cell_type": "code",
   "execution_count": null,
   "metadata": {
    "colab": {},
    "colab_type": "code",
    "id": "N7qP19KS_UkD"
   },
   "outputs": [],
   "source": [
    "#Initialising Neural Network\n",
    "Classifier=Sequential()\n",
    "\n",
    "#Step1 Convolution(feature extraction)\n",
    "Classifier.add(Conv2D(32,(3,3),input_shape=(64,64,3),activation=\"relu\"))\n",
    "\n",
    "#Step2 Max Pooling\n",
    "Classifier.add(MaxPooling2D(pool_size=(2,2)))\n",
    "\n",
    "#Step 3 Flattening of data so that it can act as an input to neural network\n",
    "Classifier.add(Flatten())\n",
    "\n",
    "#Step 4 Full Connection\n",
    "Classifier.add(Dense(units=128,activation=\"relu\"))\n",
    "Classifier.add(Dense(units=1,activation=\"sigmoid\"))\n",
    "Classifier.compile(optimizer=\"adam\",loss=\"binary_crossentropy\",metrics=[\"accuracy\"])"
   ]
  },
  {
   "cell_type": "code",
   "execution_count": null,
   "metadata": {
    "colab": {
     "base_uri": "https://localhost:8080/",
     "height": 774
    },
    "colab_type": "code",
    "executionInfo": {
     "elapsed": 1998573,
     "status": "ok",
     "timestamp": 1589813454201,
     "user": {
      "displayName": "nihal Pandey",
      "photoUrl": "https://lh3.googleusercontent.com/a-/AOh14Ggu1IH4JX3LL3ou1wGTLd60sYonBh2zRA5HyIyQ=s64",
      "userId": "09325974440559222496"
     },
     "user_tz": -330
    },
    "id": "hoJcnaNIIqJp",
    "outputId": "0799cb51-a72c-433f-f8ad-db28c7c35a7c"
   },
   "outputs": [],
   "source": [
    "from keras.preprocessing.image import ImageDataGenerator\n",
    "#preparing training dataset for model\n",
    "train_datagen = ImageDataGenerator(rescale=1./255,shear_range=0.2,zoom_range=0.2,horizontal_flip=True)\n",
    "training_set = train_datagen.flow_from_directory('Covid/Train',target_size=(64, 64),batch_size=32,class_mode='binary')\n",
    "\n",
    "#preparing testing dataset for the model\n",
    "test_datagen = ImageDataGenerator(rescale=1./255)\n",
    "testing_set = test_datagen.flow_from_directory('Covid/Val',target_size=(64, 64),batch_size=32,class_mode='binary')\n",
    "\n",
    "#fitting model\n",
    "Classifier.fit(training_set,steps_per_epoch=80,epochs=20,validation_data=testing_set,validation_steps=20)"
   ]
  },
  {
   "cell_type": "code",
   "execution_count": null,
   "metadata": {
    "colab": {},
    "colab_type": "code",
    "id": "aZKNEX-YI89D"
   },
   "outputs": [],
   "source": [
    "#knowing whether 0 corresponds to Covid positive or negative\n",
    "image_test=image.load_img(\"Covid/getClassValue/Covid.jpg\",target_size=(64,64))\n",
    "image_test=image.img_to_array(image_test)\n",
    "image_test=np.expand_dims(image_test,axis=0)\n",
    "corona=Classifier.predict(image_test)[0][0]"
   ]
  },
  {
   "cell_type": "code",
   "execution_count": null,
   "metadata": {},
   "outputs": [],
   "source": [
    "print(corona)"
   ]
  },
  {
   "cell_type": "code",
   "execution_count": null,
   "metadata": {
    "colab": {},
    "colab_type": "code",
    "id": "5MuIoYJpRUHQ"
   },
   "outputs": [],
   "source": [
    "#method to check status from xray by passing path as argument\n",
    "def testCorona(path):\n",
    "  image_test=image.load_img(path,target_size=(64,64))\n",
    "  image_test=image.img_to_array(image_test)\n",
    "  image_test=np.expand_dims(image_test,axis=0)\n",
    "  if Classifier.predict([image_test])[0][0]==corona:\n",
    "    print(\"Covid19 positive\")\n",
    "  else:\n",
    "    print(\"You are safe !!!\")"
   ]
  },
  {
   "cell_type": "code",
   "execution_count": null,
   "metadata": {
    "colab": {
     "base_uri": "https://localhost:8080/",
     "height": 34
    },
    "colab_type": "code",
    "executionInfo": {
     "elapsed": 1313,
     "status": "ok",
     "timestamp": 1589815309643,
     "user": {
      "displayName": "nihal Pandey",
      "photoUrl": "https://lh3.googleusercontent.com/a-/AOh14Ggu1IH4JX3LL3ou1wGTLd60sYonBh2zRA5HyIyQ=s64",
      "userId": "09325974440559222496"
     },
     "user_tz": -330
    },
    "id": "n-ZgpwpcRpdQ",
    "outputId": "08585691-9a86-45ef-d93b-1414a1d075dc"
   },
   "outputs": [],
   "source": [
    "#sample function calling\n",
    "testCorona(\"test.jpg\")"
   ]
  },
  {
   "cell_type": "code",
   "execution_count": 0,
   "metadata": {
    "colab": {},
    "colab_type": "code",
    "id": "TQWDTCnyRuYl"
   },
   "outputs": [],
   "source": []
  }
 ],
 "metadata": {
  "accelerator": "TPU",
  "colab": {
   "authorship_tag": "ABX9TyMFFS1bLvzO85t22lFYE+gF",
   "collapsed_sections": [],
   "name": "Covid19_detection.ipynb",
   "provenance": []
  },
  "kernelspec": {
   "display_name": "Python 3",
   "language": "python",
   "name": "python3"
  },
  "language_info": {
   "codemirror_mode": {
    "name": "ipython",
    "version": 3
   },
   "file_extension": ".py",
   "mimetype": "text/x-python",
   "name": "python",
   "nbconvert_exporter": "python",
   "pygments_lexer": "ipython3",
   "version": "3.7.7"
  }
 },
 "nbformat": 4,
 "nbformat_minor": 1
}
