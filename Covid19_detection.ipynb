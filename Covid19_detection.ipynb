{
 "cells": [
  {
   "cell_type": "code",
   "execution_count": 1,
   "metadata": {
    "colab": {},
    "colab_type": "code",
    "id": "cBI3ECdQ8rsK"
   },
   "outputs": [
    {
     "name": "stderr",
     "output_type": "stream",
     "text": [
      "Using TensorFlow backend.\n"
     ]
    }
   ],
   "source": [
    "#importing necessary libraries\n",
    "from keras.models import Sequential\n",
    "from keras.layers import Dense\n",
    "from keras.layers import Conv2D\n",
    "from keras.layers import MaxPooling2D\n",
    "from keras.layers import Flatten\n",
    "from keras.preprocessing import image\n",
    "import numpy as np"
   ]
  },
  {
   "cell_type": "code",
   "execution_count": 2,
   "metadata": {
    "colab": {},
    "colab_type": "code",
    "id": "N7qP19KS_UkD"
   },
   "outputs": [],
   "source": [
    "#Initialising Neural Network\n",
    "Classifier=Sequential()\n",
    "\n",
    "#Step1 Convolution(feature extraction)\n",
    "Classifier.add(Conv2D(32,(3,3),input_shape=(64,64,3),activation=\"relu\"))\n",
    "\n",
    "#Step2 Max Pooling\n",
    "Classifier.add(MaxPooling2D(pool_size=(2,2)))\n",
    "\n",
    "#Step 3 Flattening of data so that it can act as an input to neural network\n",
    "Classifier.add(Flatten())\n",
    "\n",
    "#Step 4 Full Connection\n",
    "Classifier.add(Dense(units=128,activation=\"relu\"))\n",
    "Classifier.add(Dense(units=1,activation=\"sigmoid\"))\n",
    "Classifier.compile(optimizer=\"adam\",loss=\"binary_crossentropy\",metrics=[\"accuracy\"])"
   ]
  },
  {
   "cell_type": "code",
   "execution_count": 4,
   "metadata": {
    "colab": {
     "base_uri": "https://localhost:8080/",
     "height": 774
    },
    "colab_type": "code",
    "executionInfo": {
     "elapsed": 1998573,
     "status": "ok",
     "timestamp": 1589813454201,
     "user": {
      "displayName": "nihal Pandey",
      "photoUrl": "https://lh3.googleusercontent.com/a-/AOh14Ggu1IH4JX3LL3ou1wGTLd60sYonBh2zRA5HyIyQ=s64",
      "userId": "09325974440559222496"
     },
     "user_tz": -330
    },
    "id": "hoJcnaNIIqJp",
    "outputId": "0799cb51-a72c-433f-f8ad-db28c7c35a7c"
   },
   "outputs": [
    {
     "name": "stdout",
     "output_type": "stream",
     "text": [
      "Found 224 images belonging to 2 classes.\n",
      "Found 60 images belonging to 2 classes.\n",
      "Epoch 1/20\n",
      "80/80 [==============================] - 118s 1s/step - loss: 0.1892 - accuracy: 0.9277 - val_loss: 0.0917 - val_accuracy: 0.9833\n",
      "Epoch 2/20\n",
      "80/80 [==============================] - 103s 1s/step - loss: 0.0262 - accuracy: 0.9926 - val_loss: 0.0731 - val_accuracy: 0.9833\n",
      "Epoch 3/20\n",
      "80/80 [==============================] - 106s 1s/step - loss: 0.0137 - accuracy: 0.9973 - val_loss: 0.2485 - val_accuracy: 0.9667\n",
      "Epoch 4/20\n",
      "80/80 [==============================] - 100s 1s/step - loss: 0.0085 - accuracy: 0.9973 - val_loss: 0.2673 - val_accuracy: 0.9667\n",
      "Epoch 5/20\n",
      "80/80 [==============================] - 104s 1s/step - loss: 0.0244 - accuracy: 0.9902 - val_loss: 0.0848 - val_accuracy: 0.9500\n",
      "Epoch 6/20\n",
      "80/80 [==============================] - 101s 1s/step - loss: 0.0163 - accuracy: 0.9949 - val_loss: 0.0024 - val_accuracy: 0.9667\n",
      "Epoch 7/20\n",
      "80/80 [==============================] - 107s 1s/step - loss: 0.0093 - accuracy: 0.9969 - val_loss: 0.1966 - val_accuracy: 0.9667\n",
      "Epoch 8/20\n",
      "80/80 [==============================] - 103s 1s/step - loss: 0.0064 - accuracy: 0.9984 - val_loss: 0.0279 - val_accuracy: 0.9667\n",
      "Epoch 9/20\n",
      "80/80 [==============================] - 102s 1s/step - loss: 0.0071 - accuracy: 0.9977 - val_loss: 0.0039 - val_accuracy: 0.9667\n",
      "Epoch 10/20\n",
      "80/80 [==============================] - 105s 1s/step - loss: 0.0014 - accuracy: 1.0000 - val_loss: 0.4282 - val_accuracy: 0.9667\n",
      "Epoch 11/20\n",
      "80/80 [==============================] - 100s 1s/step - loss: 0.0024 - accuracy: 0.9992 - val_loss: 0.2513 - val_accuracy: 0.9667\n",
      "Epoch 12/20\n",
      "80/80 [==============================] - 105s 1s/step - loss: 0.0240 - accuracy: 0.9922 - val_loss: 0.3775 - val_accuracy: 0.9333\n",
      "Epoch 13/20\n",
      "80/80 [==============================] - 100s 1s/step - loss: 0.0168 - accuracy: 0.9953 - val_loss: 7.6870e-04 - val_accuracy: 0.9667\n",
      "Epoch 14/20\n",
      "80/80 [==============================] - 103s 1s/step - loss: 0.0102 - accuracy: 0.9973 - val_loss: 0.2368 - val_accuracy: 0.9667\n",
      "Epoch 15/20\n",
      "80/80 [==============================] - 100s 1s/step - loss: 0.0035 - accuracy: 0.9996 - val_loss: 0.2819 - val_accuracy: 0.9667\n",
      "Epoch 16/20\n",
      "80/80 [==============================] - 101s 1s/step - loss: 0.0038 - accuracy: 0.9992 - val_loss: 0.0768 - val_accuracy: 0.9500\n",
      "Epoch 17/20\n",
      "80/80 [==============================] - 108s 1s/step - loss: 0.0015 - accuracy: 0.9996 - val_loss: 0.0012 - val_accuracy: 0.9667\n",
      "Epoch 18/20\n",
      "80/80 [==============================] - 115s 1s/step - loss: 4.8109e-04 - accuracy: 1.0000 - val_loss: 0.3867 - val_accuracy: 0.9667\n",
      "Epoch 19/20\n",
      "80/80 [==============================] - 114s 1s/step - loss: 6.9833e-04 - accuracy: 1.0000 - val_loss: 0.0819 - val_accuracy: 0.9667\n",
      "Epoch 20/20\n",
      "80/80 [==============================] - 110s 1s/step - loss: 0.0029 - accuracy: 0.9992 - val_loss: 0.1314 - val_accuracy: 0.9667\n"
     ]
    },
    {
     "data": {
      "text/plain": [
       "<keras.callbacks.callbacks.History at 0x1ce424a9a08>"
      ]
     },
     "execution_count": 4,
     "metadata": {},
     "output_type": "execute_result"
    }
   ],
   "source": [
    "from keras.preprocessing.image import ImageDataGenerator\n",
    "#preparing training dataset for model\n",
    "train_datagen = ImageDataGenerator(rescale=1./255,shear_range=0.2,zoom_range=0.2,horizontal_flip=True)\n",
    "training_set = train_datagen.flow_from_directory('Train',target_size=(64, 64),batch_size=32,class_mode='binary')\n",
    "\n",
    "#preparing testing dataset for the model\n",
    "test_datagen = ImageDataGenerator(rescale=1./255)\n",
    "testing_set = test_datagen.flow_from_directory('Val',target_size=(64, 64),batch_size=32,class_mode='binary')\n",
    "\n",
    "#fitting model\n",
    "Classifier.fit(training_set,steps_per_epoch=80,epochs=20,validation_data=testing_set,validation_steps=20)"
   ]
  },
  {
   "cell_type": "code",
   "execution_count": 5,
   "metadata": {
    "colab": {},
    "colab_type": "code",
    "id": "aZKNEX-YI89D"
   },
   "outputs": [],
   "source": [
    "#knowing whether 0 corresponds to Covid positive or negative\n",
    "image_test=image.load_img(\"getClassValue/Covid.jpg\",target_size=(64,64))\n",
    "image_test=image.img_to_array(image_test)\n",
    "image_test=np.expand_dims(image_test,axis=0)\n",
    "corona=Classifier.predict(image_test)[0][0]"
   ]
  },
  {
   "cell_type": "code",
   "execution_count": 6,
   "metadata": {},
   "outputs": [
    {
     "name": "stdout",
     "output_type": "stream",
     "text": [
      "0.0\n"
     ]
    }
   ],
   "source": [
    "print(corona)"
   ]
  },
  {
   "cell_type": "code",
   "execution_count": 7,
   "metadata": {
    "colab": {},
    "colab_type": "code",
    "id": "5MuIoYJpRUHQ"
   },
   "outputs": [],
   "source": [
    "#method to check status from xray by passing path as argument\n",
    "def testCorona(path):\n",
    "  image_test=image.load_img(path,target_size=(64,64))\n",
    "  image_test=image.img_to_array(image_test)\n",
    "  image_test=np.expand_dims(image_test,axis=0)\n",
    "  if Classifier.predict([image_test])[0][0]==corona:\n",
    "    print(\"Covid19 positive\")\n",
    "  else:\n",
    "    print(\"You are safe !!!\")"
   ]
  },
  {
   "cell_type": "code",
   "execution_count": 8,
   "metadata": {
    "colab": {
     "base_uri": "https://localhost:8080/",
     "height": 34
    },
    "colab_type": "code",
    "executionInfo": {
     "elapsed": 1313,
     "status": "ok",
     "timestamp": 1589815309643,
     "user": {
      "displayName": "nihal Pandey",
      "photoUrl": "https://lh3.googleusercontent.com/a-/AOh14Ggu1IH4JX3LL3ou1wGTLd60sYonBh2zRA5HyIyQ=s64",
      "userId": "09325974440559222496"
     },
     "user_tz": -330
    },
    "id": "n-ZgpwpcRpdQ",
    "outputId": "08585691-9a86-45ef-d93b-1414a1d075dc"
   },
   "outputs": [
    {
     "name": "stdout",
     "output_type": "stream",
     "text": [
      "Covid19 positive\n"
     ]
    }
   ],
   "source": [
    "#sample function calling\n",
    "testCorona(\"test.jpg\")"
   ]
  },
  {
   "cell_type": "code",
   "execution_count": 0,
   "metadata": {
    "colab": {},
    "colab_type": "code",
    "id": "TQWDTCnyRuYl"
   },
   "outputs": [],
   "source": []
  }
 ],
 "metadata": {
  "accelerator": "TPU",
  "colab": {
   "authorship_tag": "ABX9TyMFFS1bLvzO85t22lFYE+gF",
   "collapsed_sections": [],
   "name": "Covid19_detection.ipynb",
   "provenance": []
  },
  "kernelspec": {
   "display_name": "Python 3",
   "language": "python",
   "name": "python3"
  },
  "language_info": {
   "codemirror_mode": {
    "name": "ipython",
    "version": 3
   },
   "file_extension": ".py",
   "mimetype": "text/x-python",
   "name": "python",
   "nbconvert_exporter": "python",
   "pygments_lexer": "ipython3",
   "version": "3.7.7"
  }
 },
 "nbformat": 4,
 "nbformat_minor": 1
}
